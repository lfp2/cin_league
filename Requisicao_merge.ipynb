{
 "cells": [
  {
   "cell_type": "markdown",
   "metadata": {},
   "source": [
    "# Mineração de Dados\n",
    "\n",
    "Fazer a requisição para informações não agregadas da partida. "
   ]
  },
  {
   "cell_type": "code",
   "execution_count": 2,
   "metadata": {},
   "outputs": [],
   "source": [
    "import requests\n",
    "import json"
   ]
  },
  {
   "cell_type": "code",
   "execution_count": 94,
   "metadata": {},
   "outputs": [],
   "source": [
    "def req(id_game, key):\n",
    "    first_blood = -1\n",
    "    yellow_trinket_team_1 = 0\n",
    "    yellow_trinket_team_2 = 0\n",
    "    control_ward_team_1 = 0\n",
    "    control_ward_team_2 = 0\n",
    "    undefined_ward_team_1 = 0\n",
    "    undefined_ward_team_2 = 0\n",
    "    outer_tower_team_1 = 0 ##quantas o time já derrubou\n",
    "    outer_tower_team_2 = 0\n",
    "    inner_tower_team_1 = 0\n",
    "    inner_tower_team_2 = 0\n",
    "    base_tower_team_1 = 0\n",
    "    base_tower_team_2 = 0\n",
    "    inhibitor_team_1 = 0\n",
    "    inhibitor_team_2 = 0\n",
    "    dragons_team_1 = 0\n",
    "    dragons_team_2 = 0\n",
    "    response = requests.get('https://br1.api.riotgames.com/lol/match/v4/timelines/by-match/'+id_game+'?api_key='+key)\n",
    "    if response:\n",
    "        json_response = response.json()\n",
    "        for x in json_response['frames']:\n",
    "            if x['timestamp'] < 600276:\n",
    "                for y in x['events']:\n",
    "                    if y['type'] == 'CHAMPION_KILL' and first_blood == -1:\n",
    "                        if y['killerId'] < 6: \n",
    "                                first_blood = 0\n",
    "                        else:\n",
    "                                first_blood = 1\n",
    "                    if y['type'] == 'WARD_PLACED':\n",
    "                        if y['wardType'] == 'YELLOW_TRINKET':\n",
    "                            if y['creatorId'] < 6: \n",
    "                                yellow_trinket_team_1 += 1 \n",
    "                            else:\n",
    "                                yellow_trinket_team_2 += 1\n",
    "                        elif y['wardType'] == 'CONTROL_WARD':\n",
    "                            if y['creatorId'] < 6:  \n",
    "                                control_ward_team_1 += 1\n",
    "                            else: \n",
    "                                control_ward_team_2 +=1\n",
    "                        elif y['wardType'] == 'UNDEFINED':\n",
    "                            if y['creatorId'] < 6:  \n",
    "                                undefined_ward_team_1 += 1\n",
    "                            else: \n",
    "                                undefined_ward_team_2 +=1\n",
    "                    if y['type'] == 'BUILDING_KILL':\n",
    "                        if y['buildingType'] == 'OUTER_TURRET':\n",
    "                            if y['killer_id'] < 6:  \n",
    "                                outer_tower_team_2 += 1\n",
    "                            else: \n",
    "                                outer_tower_team_1 +=1\n",
    "                        elif y['buildingType'] == 'INNER_TURRET':\n",
    "                            if y['killer_id'] < 6:  \n",
    "                                inner_tower_team_2 += 1\n",
    "                            else: \n",
    "                                inner_tower_team_1 +=1\n",
    "                        elif y['buildType'] == 'BASE_TURRET':\n",
    "                            if y['killer_id'] < 6:  \n",
    "                                base_tower_team_2 += 1\n",
    "                            else: \n",
    "                                base_tower_team_1 +=1\n",
    "                        elif y[\"buildingType\"] == \"INHIBITOR_BUILDING\":\n",
    "                            if y['killer_id'] < 6:  \n",
    "                                inhibitor_team_2 += 1\n",
    "                            else: \n",
    "                                inhibitor_team_1 +=1\n",
    "                    if y['type'] == 'ELITE_MONSTER_KILL' and y['monsterType'] == 'DRAGON':\n",
    "                        if y['killer_id'] < 6:  \n",
    "                                dragons_team_1 += 1\n",
    "                        else: \n",
    "                                dragons_team_2 +=1\n",
    "                                \n",
    "        return {'yellow_trinket_team_1': yellow_trinket_team_1,\n",
    "                'yellow_trinket_team_2': yellow_trinket_team_2,\n",
    "                'control_ward_team_1': control_ward_team_1,\n",
    "                'control_ward_team_2': control_ward_team_2,\n",
    "                'undefined_ward_team_1': undefined_ward_team_1,\n",
    "                'undefined_ward_team_2': undefined_ward_team_2,\n",
    "                'outer_tower_team_1': outer_tower_team_1,\n",
    "                'outer_tower_team_2': outer_tower_team_2,\n",
    "                'inner_tower_team_1': inner_tower_team_1,\n",
    "                'inner_tower_team_2': inner_tower_team_2,\n",
    "                'base_tower_team_1': base_tower_team_1,\n",
    "                'base_tower_team_2': base_tower_team_2,\n",
    "                'inhibitor_team_1': inhibitor_team_1,\n",
    "                'inhibitor_team_2': inhibitor_team_2,\n",
    "                'first_blood': first_blood,\n",
    "                'dragons_team_1': dragons_team_1,\n",
    "                'dragons_team_2': dragons_team_2}"
   ]
  },
  {
   "cell_type": "code",
   "execution_count": 95,
   "metadata": {},
   "outputs": [
    {
     "name": "stdout",
     "output_type": "stream",
     "text": [
      "{'yellow_trinket_team_1': 11, 'yellow_trinket_team_2': 0, 'control_ward_team_1': 0, 'control_ward_team_2': 0, 'undefined_ward_team_1': 4, 'undefined_ward_team_2': 108, 'outer_tower_team_1': 0, 'outer_tower_team_2': 0, 'inner_tower_team_1': 0, 'inner_tower_team_2': 0, 'base_tower_team_1': 0, 'base_tower_team_2': 0, 'inhibitor_team_1': 0, 'inhibitor_team_2': 0, 'first_blood': 0, 'dragons_team_1': 0, 'dragons_team_2': 0}\n"
     ]
    }
   ],
   "source": [
    "print(req('1649289144','RGAPI-8aeaca9b-6e1a-4bbc-b64b-99215ab11533'))"
   ]
  },
  {
   "cell_type": "code",
   "execution_count": null,
   "metadata": {},
   "outputs": [],
   "source": []
  }
 ],
 "metadata": {
  "kernelspec": {
   "display_name": "Python 3",
   "language": "python",
   "name": "python3"
  },
  "language_info": {
   "codemirror_mode": {
    "name": "ipython",
    "version": 3
   },
   "file_extension": ".py",
   "mimetype": "text/x-python",
   "name": "python",
   "nbconvert_exporter": "python",
   "pygments_lexer": "ipython3",
   "version": "3.6.7"
  }
 },
 "nbformat": 4,
 "nbformat_minor": 2
}
